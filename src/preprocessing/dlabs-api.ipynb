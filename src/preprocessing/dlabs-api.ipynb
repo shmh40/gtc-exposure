{
 "metadata": {
  "language_info": {
   "codemirror_mode": {
    "name": "ipython",
    "version": 3
   },
   "file_extension": ".py",
   "mimetype": "text/x-python",
   "name": "python",
   "nbconvert_exporter": "python",
   "pygments_lexer": "ipython3",
   "version": "3.7.9-final"
  },
  "orig_nbformat": 2,
  "kernelspec": {
   "name": "python3",
   "display_name": "Python 3",
   "language": "python"
  }
 },
 "nbformat": 4,
 "nbformat_minor": 2,
 "cells": [
  {
   "source": [
    "# Descartes Labs API for satellite data\n",
    "* Authentication and AOI definition passes but all 'scene Collections' come back empty seemingly because we do not have a subscription -> Being taken up with Anita"
   ],
   "cell_type": "markdown",
   "metadata": {}
  },
  {
   "cell_type": "code",
   "execution_count": null,
   "metadata": {
    "tags": [
     "outputPrepend"
    ]
   },
   "outputs": [],
   "source": [
    "# Install and Authenticate\n",
    "%conda install shapely\n",
    "%pip install \"descarteslabs[complete]\"\n",
    "# descarteslabs auth login -> in console"
   ]
  },
  {
   "cell_type": "code",
   "execution_count": null,
   "metadata": {},
   "outputs": [],
   "source": [
    "# Import Libraries\n",
    "import descarteslabs as dl\n",
    "import numpy as np"
   ]
  },
  {
   "cell_type": "code",
   "execution_count": null,
   "metadata": {},
   "outputs": [],
   "source": [
    "# Plot area\n",
    "# Define area\n",
    "istanbul_geojson = {\"type\": \"Polygon\", \"coordinates\": [[[28.5, 40.5], [29.5, 40.5], [29.5, 41.5], [28.5, 41.5], [28.5, 40.5]]]}\n",
    "\n",
    "# Find scene coverage\n",
    "scenes, geoctx = dl.scenes.search(istanbul_geojson, products=[\"sentinel-2:L1C\", \"landsat:LC08:01:T1:TOAR\"], start_datetime=\"2016-06-01\",end_datetime=\"2020-12-01\",cloud_fraction=0.1)\n",
    "\n",
    "nov_scenes = scenes.filter(lambda scene: scene.properties.date.month in [11])\n",
    "\n",
    "print(nov_scenes)\n",
    "print(scenes)"
   ]
  },
  {
   "cell_type": "code",
   "execution_count": null,
   "metadata": {},
   "outputs": [],
   "source": [
    "# Default plot from tutorial\n",
    "\n",
    "sangre_de_cristo_geojson = {\n",
    "...     \"type\": \"Polygon\",\n",
    "...     \"coordinates\": [[\n",
    "...         [-106, 35.5], [-105, 35.5], [-105, 36.5], [-106, 36.5], [-106, 35.5]\n",
    "...     ]]\n",
    "... }\n",
    "scenes, geoctx = dl.scenes.search(\n",
    "...     sangre_de_cristo_geojson,\n",
    "...     products=[\"sentinel-2:L1C\", \"landsat:LC08:01:T1:TOAR\"],\n",
    "...     start_datetime=\"2016-12-01\",\n",
    "...     end_datetime=\"2018-03-01\",\n",
    "...     cloud_fraction=0.1,\n",
    "... )\n",
    "winter_scenes = scenes.filter(\n",
    "...     lambda scene: scene.properties.date.month in [12, 1, 2]\n",
    "... )\n",
    "winter_scenes\n",
    "ndarray_stack = winter_scenes.stack(\n",
    "...     \"red green blue\",\n",
    "...     geoctx.assign(resolution=150)\n",
    "... )"
   ]
  }
 ]
}