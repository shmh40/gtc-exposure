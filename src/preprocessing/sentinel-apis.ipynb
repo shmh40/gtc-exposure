{
 "metadata": {
  "language_info": {
   "codemirror_mode": {
    "name": "ipython",
    "version": 3
   },
   "file_extension": ".py",
   "mimetype": "text/x-python",
   "name": "python",
   "nbconvert_exporter": "python",
   "pygments_lexer": "ipython3",
   "version": "3.7.9-final"
  },
  "orig_nbformat": 2,
  "kernelspec": {
   "name": "python3",
   "display_name": "Python 3",
   "language": "python"
  }
 },
 "nbformat": 4,
 "nbformat_minor": 2,
 "cells": [
  {
   "source": [
    "# Trial of different APIs for interacting with Sentinel data\n",
    "1. <a href=\"#earth-engine\">Google Earth Engine</a>\n",
    "2. <a href=\"#sentinel-sat\">SentinelSat</a>\n",
    "3. Snappy\n",
    "4. SatPy "
   ],
   "cell_type": "markdown",
   "metadata": {}
  },
  {
   "source": [
    "<a name=\"earth-engine\"></a>\n",
    "## Earth Engine\n",
    "Authentication all good - trouble using api in python as opposed to the easy javascript console"
   ],
   "cell_type": "markdown",
   "metadata": {}
  },
  {
   "cell_type": "code",
   "execution_count": 4,
   "metadata": {},
   "outputs": [
    {
     "output_type": "stream",
     "name": "stdout",
     "text": [
      "The Earth Engine package initialized successfully!\n"
     ]
    }
   ],
   "source": [
    "import ee\n",
    "try:\n",
    "  ee.Initialize()\n",
    "  print('The Earth Engine package initialized successfully!')\n",
    "except ee.EEException as e:\n",
    "  print('The Earth Engine package failed to initialize! - Call $ earthengine authenticate, at the command line')\n",
    "except:\n",
    "    print(\"Unexpected error:\", sys.exc_info()[0])\n",
    "    raise"
   ]
  },
  {
   "cell_type": "code",
   "execution_count": 9,
   "metadata": {},
   "outputs": [
    {
     "output_type": "execute_result",
     "data": {
      "text/plain": [
       "<folium.folium.Map at 0x1ab36c03ac8>"
      ],
      "text/html": "<div style=\"width:100%;\"><div style=\"position:relative;width:100%;height:0;padding-bottom:60%;\"><span style=\"color:#565656\">Make this Notebook Trusted to load map: File -> Trust Notebook</span><iframe src=\"about:blank\" style=\"position:absolute;width:100%;height:100%;left:0;top:0;border:none !important;\" data-html=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 onload=\"this.contentDocument.open();this.contentDocument.write(atob(this.getAttribute('data-html')));this.contentDocument.close();\" allowfullscreen webkitallowfullscreen mozallowfullscreen></iframe></div></div>"
     },
     "metadata": {},
     "execution_count": 9
    }
   ],
   "source": [
    "import ee\n",
    "import geehydro\n",
    "import folium\n",
    "# Get a composite of all Sentinal 2 images within a date range that include my point of interest.\n",
    "poi = ee.Geometry.Point([29, 41])\n",
    "image = ee.ImageCollection('COPERNICUS/S2').filterBounds(poi).filterDate('2020-12-01', '2020-12-15').min()\n",
    "Map = folium.Map(location=[41, 29], zoom_start=10)\n",
    "# To see a google satellite view as a basemap\n",
    "Map.setOptions('HYBRID')\n",
    "nir = image.select('B8')\n",
    "red = image.select('B4')\n",
    "ndvi = nir.subtract(red).divide(nir.add(red)).rename('NDVI Layer')\n",
    "ndviParams = {'min': -1, 'max': 1, 'palette': ['blue', 'white', 'green']}\n",
    "Map.addLayer(ndvi, ndviParams, 'NDVI image')\n",
    "Map.setControlVisibility(layerControl=True, fullscreenControl=True, latLngPopup=True)\n",
    "Map"
   ]
  },
  {
   "cell_type": "code",
   "execution_count": 10,
   "metadata": {},
   "outputs": [],
   "source": [
    "import tensorflow as tf"
   ]
  },
  {
   "cell_type": "code",
   "execution_count": 4,
   "metadata": {},
   "outputs": [
    {
     "output_type": "stream",
     "name": "stdout",
     "text": [
      "To authorize access needed by Earth Engine, open the following URL in a web browser and follow the instructions. If the web browser does not start automatically, please manually browse the URL below.\n\n    https://accounts.google.com/o/oauth2/auth?response_type=code&client_id=517222506229-vsmmajv00ul0bs7p89v5m89qs8eb9359.apps.googleusercontent.com&redirect_uri=urn%3Aietf%3Awg%3Aoauth%3A2.0%3Aoob&scope=https%3A%2F%2Fwww.googleapis.com%2Fauth%2Fearthengine+https%3A%2F%2Fwww.googleapis.com%2Fauth%2Fdevstorage.full_control&state=hHVih1bcA9VQmJVz3dZo3ERZ5k2lUp&prompt=consent&access_type=offline\n\nThe authorization workflow will generate a code, which you should paste in the box below. \n\n\n"
     ]
    }
   ],
   "source": [
    "# This has details about the Earth Engine Python Authenticator client.\n",
    "from ee import oauth\n",
    "from google_auth_oauthlib.flow import Flow\n",
    "import json\n",
    "\n",
    "# Build the `client_secrets.json` file by borrowing the\n",
    "# Earth Engine python authenticator.\n",
    "client_secrets = {\n",
    "    'web': {\n",
    "        'client_id': oauth.CLIENT_ID,\n",
    "        'client_secret': oauth.CLIENT_SECRET,\n",
    "        'redirect_uris': [oauth.REDIRECT_URI],\n",
    "        'auth_uri': 'https://accounts.google.com/o/oauth2/auth',\n",
    "        'token_uri': 'https://accounts.google.com/o/oauth2/token'\n",
    "    }\n",
    "}\n",
    "\n",
    "# Write to a json file.\n",
    "client_secrets_file = 'client_secrets.json'\n",
    "with open(client_secrets_file, 'w') as f:\n",
    "  json.dump(client_secrets, f, indent=2)\n",
    "\n",
    "# Start the flow using the client_secrets.json file.\n",
    "flow = Flow.from_client_secrets_file(client_secrets_file,\n",
    "    scopes=oauth.SCOPES,\n",
    "    redirect_uri=oauth.REDIRECT_URI)\n",
    "\n",
    "# Get the authorization URL from the flow.\n",
    "auth_url, _ = flow.authorization_url(prompt='consent')\n",
    "\n",
    "# Print instructions to go to the authorization URL.\n",
    "oauth._display_auth_instructions_with_print(auth_url)\n",
    "print('\\n')\n",
    "\n",
    "# The user will get an authorization code.\n",
    "# This code is used to get the access token.\n",
    "code = input('Enter the authorization code: \\n')\n",
    "flow.fetch_token(code=code)\n",
    "\n",
    "# Get an authorized session from the flow.\n",
    "session = flow.authorized_session()"
   ]
  },
  {
   "source": [
    "<a name=\"sentinel-sat\"></a>\n",
    "## SentinelSat\n",
    "* Ok for a download but is less supported than Earth Engine, can probably give a miss"
   ],
   "cell_type": "markdown",
   "metadata": {}
  },
  {
   "cell_type": "code",
   "execution_count": 6,
   "metadata": {},
   "outputs": [
    {
     "output_type": "error",
     "ename": "KeyError",
     "evalue": "'features'",
     "traceback": [
      "\u001b[1;31m---------------------------------------------------------------------------\u001b[0m",
      "\u001b[1;31mTypeError\u001b[0m                                 Traceback (most recent call last)",
      "\u001b[1;32mC:\\ProgramData\\Anaconda3\\envs\\sentinel\\lib\\site-packages\\geojson\\geometry.py\u001b[0m in \u001b[0;36m__getitem__\u001b[1;34m(self, key)\u001b[0m\n\u001b[0;32m     73\u001b[0m         \u001b[1;32mtry\u001b[0m\u001b[1;33m:\u001b[0m\u001b[1;33m\u001b[0m\u001b[1;33m\u001b[0m\u001b[0m\n\u001b[1;32m---> 74\u001b[1;33m             \u001b[1;32mreturn\u001b[0m \u001b[0mself\u001b[0m\u001b[1;33m.\u001b[0m\u001b[0mget\u001b[0m\u001b[1;33m(\u001b[0m\u001b[1;34m\"geometries\"\u001b[0m\u001b[1;33m,\u001b[0m \u001b[1;33m(\u001b[0m\u001b[1;33m)\u001b[0m\u001b[1;33m)\u001b[0m\u001b[1;33m[\u001b[0m\u001b[0mkey\u001b[0m\u001b[1;33m]\u001b[0m\u001b[1;33m\u001b[0m\u001b[1;33m\u001b[0m\u001b[0m\n\u001b[0m\u001b[0;32m     75\u001b[0m         \u001b[1;32mexcept\u001b[0m \u001b[1;33m(\u001b[0m\u001b[0mKeyError\u001b[0m\u001b[1;33m,\u001b[0m \u001b[0mTypeError\u001b[0m\u001b[1;33m,\u001b[0m \u001b[0mIndexError\u001b[0m\u001b[1;33m)\u001b[0m\u001b[1;33m:\u001b[0m\u001b[1;33m\u001b[0m\u001b[1;33m\u001b[0m\u001b[0m\n",
      "\u001b[1;31mTypeError\u001b[0m: list indices must be integers or slices, not str",
      "\nDuring handling of the above exception, another exception occurred:\n",
      "\u001b[1;31mKeyError\u001b[0m                                  Traceback (most recent call last)",
      "\u001b[1;32m<ipython-input-6-252637b0775e>\u001b[0m in \u001b[0;36m<module>\u001b[1;34m\u001b[0m\n\u001b[0;32m      7\u001b[0m \u001b[0mpassword\u001b[0m \u001b[1;33m=\u001b[0m \u001b[1;34m'cq3FkHPiBiUbBfP'\u001b[0m\u001b[1;33m\u001b[0m\u001b[1;33m\u001b[0m\u001b[0m\n\u001b[0;32m      8\u001b[0m \u001b[0mapi\u001b[0m \u001b[1;33m=\u001b[0m \u001b[0mSentinelAPI\u001b[0m\u001b[1;33m(\u001b[0m\u001b[1;34m'user'\u001b[0m\u001b[1;33m,\u001b[0m \u001b[1;34m'password'\u001b[0m\u001b[1;33m)\u001b[0m\u001b[1;33m\u001b[0m\u001b[1;33m\u001b[0m\u001b[0m\n\u001b[1;32m----> 9\u001b[1;33m \u001b[0mfootprint\u001b[0m \u001b[1;33m=\u001b[0m \u001b[0mgeojson_to_wkt\u001b[0m\u001b[1;33m(\u001b[0m\u001b[0mread_geojson\u001b[0m\u001b[1;33m(\u001b[0m\u001b[1;34m'C:/Users/lukec/OneDrive - University of Cambridge/Projects/GTC/data/UnitedKingdom_Bound.json'\u001b[0m\u001b[1;33m)\u001b[0m\u001b[1;33m)\u001b[0m\u001b[1;33m\u001b[0m\u001b[1;33m\u001b[0m\u001b[0m\n\u001b[0m\u001b[0;32m     10\u001b[0m products = api.query(footprint,\n\u001b[0;32m     11\u001b[0m                      \u001b[0mproducttype\u001b[0m\u001b[1;33m=\u001b[0m\u001b[1;34m'SLC'\u001b[0m\u001b[1;33m,\u001b[0m\u001b[1;33m\u001b[0m\u001b[1;33m\u001b[0m\u001b[0m\n",
      "\u001b[1;32mC:\\ProgramData\\Anaconda3\\envs\\sentinel\\lib\\site-packages\\sentinelsat\\sentinel.py\u001b[0m in \u001b[0;36mgeojson_to_wkt\u001b[1;34m(geojson_obj, feature_number, decimals)\u001b[0m\n\u001b[0;32m   1207\u001b[0m         \u001b[0mgeometry\u001b[0m \u001b[1;33m=\u001b[0m \u001b[0mgeojson_obj\u001b[0m\u001b[1;33m[\u001b[0m\u001b[1;34m\"geometry\"\u001b[0m\u001b[1;33m]\u001b[0m\u001b[1;33m\u001b[0m\u001b[1;33m\u001b[0m\u001b[0m\n\u001b[0;32m   1208\u001b[0m     \u001b[1;32melse\u001b[0m\u001b[1;33m:\u001b[0m\u001b[1;33m\u001b[0m\u001b[1;33m\u001b[0m\u001b[0m\n\u001b[1;32m-> 1209\u001b[1;33m         \u001b[0mgeometry\u001b[0m \u001b[1;33m=\u001b[0m \u001b[0mgeojson_obj\u001b[0m\u001b[1;33m[\u001b[0m\u001b[1;34m\"features\"\u001b[0m\u001b[1;33m]\u001b[0m\u001b[1;33m[\u001b[0m\u001b[0mfeature_number\u001b[0m\u001b[1;33m]\u001b[0m\u001b[1;33m[\u001b[0m\u001b[1;34m\"geometry\"\u001b[0m\u001b[1;33m]\u001b[0m\u001b[1;33m\u001b[0m\u001b[1;33m\u001b[0m\u001b[0m\n\u001b[0m\u001b[0;32m   1210\u001b[0m \u001b[1;33m\u001b[0m\u001b[0m\n\u001b[0;32m   1211\u001b[0m     \u001b[1;32mdef\u001b[0m \u001b[0mensure_2d\u001b[0m\u001b[1;33m(\u001b[0m\u001b[0mgeometry\u001b[0m\u001b[1;33m)\u001b[0m\u001b[1;33m:\u001b[0m\u001b[1;33m\u001b[0m\u001b[1;33m\u001b[0m\u001b[0m\n",
      "\u001b[1;32mC:\\ProgramData\\Anaconda3\\envs\\sentinel\\lib\\site-packages\\geojson\\geometry.py\u001b[0m in \u001b[0;36m__getitem__\u001b[1;34m(self, key)\u001b[0m\n\u001b[0;32m     74\u001b[0m             \u001b[1;32mreturn\u001b[0m \u001b[0mself\u001b[0m\u001b[1;33m.\u001b[0m\u001b[0mget\u001b[0m\u001b[1;33m(\u001b[0m\u001b[1;34m\"geometries\"\u001b[0m\u001b[1;33m,\u001b[0m \u001b[1;33m(\u001b[0m\u001b[1;33m)\u001b[0m\u001b[1;33m)\u001b[0m\u001b[1;33m[\u001b[0m\u001b[0mkey\u001b[0m\u001b[1;33m]\u001b[0m\u001b[1;33m\u001b[0m\u001b[1;33m\u001b[0m\u001b[0m\n\u001b[0;32m     75\u001b[0m         \u001b[1;32mexcept\u001b[0m \u001b[1;33m(\u001b[0m\u001b[0mKeyError\u001b[0m\u001b[1;33m,\u001b[0m \u001b[0mTypeError\u001b[0m\u001b[1;33m,\u001b[0m \u001b[0mIndexError\u001b[0m\u001b[1;33m)\u001b[0m\u001b[1;33m:\u001b[0m\u001b[1;33m\u001b[0m\u001b[1;33m\u001b[0m\u001b[0m\n\u001b[1;32m---> 76\u001b[1;33m             \u001b[1;32mreturn\u001b[0m \u001b[0msuper\u001b[0m\u001b[1;33m(\u001b[0m\u001b[0mGeoJSON\u001b[0m\u001b[1;33m,\u001b[0m \u001b[0mself\u001b[0m\u001b[1;33m)\u001b[0m\u001b[1;33m.\u001b[0m\u001b[0m__getitem__\u001b[0m\u001b[1;33m(\u001b[0m\u001b[0mkey\u001b[0m\u001b[1;33m)\u001b[0m\u001b[1;33m\u001b[0m\u001b[1;33m\u001b[0m\u001b[0m\n\u001b[0m\u001b[0;32m     77\u001b[0m \u001b[1;33m\u001b[0m\u001b[0m\n\u001b[0;32m     78\u001b[0m \u001b[1;33m\u001b[0m\u001b[0m\n",
      "\u001b[1;31mKeyError\u001b[0m: 'features'"
     ]
    }
   ],
   "source": [
    "#%pip install sentinelsat\n",
    "from sentinelsat import SentinelAPI\n",
    "\n",
    "from sentinelsat import SentinelAPI, read_geojson, geojson_to_wkt\n",
    "\n",
    "user = 'lshc3' \n",
    "password = 'cq3FkHPiBiUbBfP' \n",
    "api = SentinelAPI('user', 'password')\n",
    "footprint = geojson_to_wkt(read_geojson('C:/Users/lukec/OneDrive - University of Cambridge/Projects/GTC/data/UnitedKingdom_Bound.json'))\n",
    "products = api.query(footprint,\n",
    "                     producttype='SLC',\n",
    "                     orbitdirection='ASCENDING')\n",
    "api.download_all(products)"
   ]
  },
  {
   "source": [
    "## ESA's snappy\n",
    "* A pain to set-up snappy-configuration before product reading works"
   ],
   "cell_type": "markdown",
   "metadata": {}
  },
  {
   "cell_type": "code",
   "execution_count": 8,
   "metadata": {},
   "outputs": [
    {
     "output_type": "stream",
     "name": "stdout",
     "text": [
      "Requirement already satisfied: snappy in c:\\programdata\\anaconda3\\envs\\sentinel\\lib\\site-packages (2.8)\nRequirement already satisfied: FXrays>=1.3 in c:\\programdata\\anaconda3\\envs\\sentinel\\lib\\site-packages (from snappy) (1.3.3)\nRequirement already satisfied: pypng in c:\\programdata\\anaconda3\\envs\\sentinel\\lib\\site-packages (from snappy) (0.0.20)\nRequirement already satisfied: future in c:\\programdata\\anaconda3\\envs\\sentinel\\lib\\site-packages (from snappy) (0.18.2)\nRequirement already satisfied: plink>=2.3.1 in c:\\programdata\\anaconda3\\envs\\sentinel\\lib\\site-packages (from snappy) (2.3.1)\nRequirement already satisfied: spherogram>=1.8.3 in c:\\programdata\\anaconda3\\envs\\sentinel\\lib\\site-packages (from snappy) (1.8.3)\nRequirement already satisfied: pyreadline>=2.0 in c:\\programdata\\anaconda3\\envs\\sentinel\\lib\\site-packages (from snappy) (2.1)\nRequirement already satisfied: snappy-manifolds>=1.1.1 in c:\\programdata\\anaconda3\\envs\\sentinel\\lib\\site-packages (from snappy) (1.1.2)\nRequirement already satisfied: cypari>=2.2 in c:\\programdata\\anaconda3\\envs\\sentinel\\lib\\site-packages (from snappy) (2.4.0)\nRequirement already satisfied: ipython>=0.13 in c:\\programdata\\anaconda3\\envs\\sentinel\\lib\\site-packages (from snappy) (7.19.0)\nRequirement already satisfied: decorator in c:\\programdata\\anaconda3\\envs\\sentinel\\lib\\site-packages (from snappy) (4.4.2)\nRequirement already satisfied: future in c:\\programdata\\anaconda3\\envs\\sentinel\\lib\\site-packages (from snappy) (0.18.2)\nRequirement already satisfied: six in c:\\programdata\\anaconda3\\envs\\sentinel\\lib\\site-packages (from cypari>=2.2->snappy) (1.15.0)\nRequirement already satisfied: jedi>=0.10 in c:\\programdata\\anaconda3\\envs\\sentinel\\lib\\site-packages (from ipython>=0.13->snappy) (0.17.0)\nRequirement already satisfied: prompt-toolkit!=3.0.0,!=3.0.1,<3.1.0,>=2.0.0 in c:\\programdata\\anaconda3\\envs\\sentinel\\lib\\site-packages (from ipython>=0.13->snappy) (3.0.8)\nRequirement already satisfied: setuptools>=18.5 in c:\\programdata\\anaconda3\\envs\\sentinel\\lib\\site-packages (from ipython>=0.13->snappy) (51.0.0.post20201207)\nRequirement already satisfied: colorama in c:\\programdata\\anaconda3\\envs\\sentinel\\lib\\site-packages (from ipython>=0.13->snappy) (0.4.4)\nRequirement already satisfied: pygments in c:\\programdata\\anaconda3\\envs\\sentinel\\lib\\site-packages (from ipython>=0.13->snappy) (2.7.3)\nRequirement already satisfied: backcall in c:\\programdata\\anaconda3\\envs\\sentinel\\lib\\site-packages (from ipython>=0.13->snappy) (0.2.0)\nRequirement already satisfied: pickleshare in c:\\programdata\\anaconda3\\envs\\sentinel\\lib\\site-packages (from ipython>=0.13->snappy) (0.7.5)\nRequirement already satisfied: traitlets>=4.2 in c:\\programdata\\anaconda3\\envs\\sentinel\\lib\\site-packages (from ipython>=0.13->snappy) (4.3.3)\nRequirement already satisfied: decorator in c:\\programdata\\anaconda3\\envs\\sentinel\\lib\\site-packages (from snappy) (4.4.2)\nRequirement already satisfied: parso>=0.7.0 in c:\\programdata\\anaconda3\\envs\\sentinel\\lib\\site-packages (from jedi>=0.10->ipython>=0.13->snappy) (0.8.1)\nRequirement already satisfied: future in c:\\programdata\\anaconda3\\envs\\sentinel\\lib\\site-packages (from snappy) (0.18.2)\nRequirement already satisfied: wcwidth in c:\\programdata\\anaconda3\\envs\\sentinel\\lib\\site-packages (from prompt-toolkit!=3.0.0,!=3.0.1,<3.1.0,>=2.0.0->ipython>=0.13->snappy) (0.2.5)\nRequirement already satisfied: snappy-manifolds>=1.1.1 in c:\\programdata\\anaconda3\\envs\\sentinel\\lib\\site-packages (from snappy) (1.1.2)\nRequirement already satisfied: future in c:\\programdata\\anaconda3\\envs\\sentinel\\lib\\site-packages (from snappy) (0.18.2)\nRequirement already satisfied: networkx>=1.3 in c:\\programdata\\anaconda3\\envs\\sentinel\\lib\\site-packages (from spherogram>=1.8.3->snappy) (2.5)\nRequirement already satisfied: decorator in c:\\programdata\\anaconda3\\envs\\sentinel\\lib\\site-packages (from snappy) (4.4.2)\nRequirement already satisfied: decorator in c:\\programdata\\anaconda3\\envs\\sentinel\\lib\\site-packages (from snappy) (4.4.2)\nRequirement already satisfied: ipython-genutils in c:\\programdata\\anaconda3\\envs\\sentinel\\lib\\site-packages (from traitlets>=4.2->ipython>=0.13->snappy) (0.2.0)\nRequirement already satisfied: decorator in c:\\programdata\\anaconda3\\envs\\sentinel\\lib\\site-packages (from snappy) (4.4.2)\nRequirement already satisfied: six in c:\\programdata\\anaconda3\\envs\\sentinel\\lib\\site-packages (from cypari>=2.2->snappy) (1.15.0)\nNote: you may need to restart the kernel to use updated packages.\n"
     ]
    },
    {
     "output_type": "error",
     "ename": "ImportError",
     "evalue": "cannot import name 'ProductIO' from 'snappy' (C:\\ProgramData\\Anaconda3\\envs\\sentinel\\lib\\site-packages\\snappy\\__init__.py)",
     "traceback": [
      "\u001b[1;31m---------------------------------------------------------------------------\u001b[0m",
      "\u001b[1;31mImportError\u001b[0m                               Traceback (most recent call last)",
      "\u001b[1;32m<ipython-input-8-9a246eb33053>\u001b[0m in \u001b[0;36m<module>\u001b[1;34m\u001b[0m\n\u001b[0;32m      1\u001b[0m \u001b[0mget_ipython\u001b[0m\u001b[1;33m(\u001b[0m\u001b[1;33m)\u001b[0m\u001b[1;33m.\u001b[0m\u001b[0mrun_line_magic\u001b[0m\u001b[1;33m(\u001b[0m\u001b[1;34m'pip'\u001b[0m\u001b[1;33m,\u001b[0m \u001b[1;34m'install snappy'\u001b[0m\u001b[1;33m)\u001b[0m\u001b[1;33m\u001b[0m\u001b[1;33m\u001b[0m\u001b[0m\n\u001b[1;32m----> 2\u001b[1;33m \u001b[1;32mfrom\u001b[0m \u001b[0msnappy\u001b[0m \u001b[1;32mimport\u001b[0m \u001b[0mProductIO\u001b[0m\u001b[1;33m\u001b[0m\u001b[1;33m\u001b[0m\u001b[0m\n\u001b[0m\u001b[0;32m      3\u001b[0m \u001b[1;32mimport\u001b[0m \u001b[0mnumpy\u001b[0m \u001b[1;32mas\u001b[0m \u001b[0mnp\u001b[0m\u001b[1;33m\u001b[0m\u001b[1;33m\u001b[0m\u001b[0m\n\u001b[0;32m      4\u001b[0m \u001b[1;32mimport\u001b[0m \u001b[0mmatplotlib\u001b[0m\u001b[1;33m.\u001b[0m\u001b[0mpyplot\u001b[0m \u001b[1;32mas\u001b[0m \u001b[0mplt\u001b[0m\u001b[1;33m\u001b[0m\u001b[1;33m\u001b[0m\u001b[0m\n\u001b[0;32m      5\u001b[0m \u001b[1;33m\u001b[0m\u001b[0m\n",
      "\u001b[1;31mImportError\u001b[0m: cannot import name 'ProductIO' from 'snappy' (C:\\ProgramData\\Anaconda3\\envs\\sentinel\\lib\\site-packages\\snappy\\__init__.py)"
     ]
    }
   ],
   "source": [
    "%pip install snappy\n",
    "from snappy import ProductIO\n",
    "import numpy as np\n",
    "import matplotlib.pyplot as plt\n",
    " \n",
    "p = ProductIO.readProduct('snappy/testdata/MER_FRS_L1B_SUBSET.dim')\n",
    "rad13 = p.getBand('radiance_13')\n",
    "w = rad13.getRasterWidth()\n",
    "h = rad13.getRasterHeight()\n",
    "rad13_data = np.zeros(w * h, np.float32)\n",
    "rad13.readPixels(0, 0, w, h, rad13_data)\n",
    "p.dispose()\n",
    "rad13_data.shape = h, w\n",
    "imgplot = plt.imshow(rad13_data)\n",
    "imgplot.write_png('radiance_13.png')"
   ]
  },
  {
   "source": [
    "## SatPy\n",
    "* Not smooth sailing for downloading from ESA but could be good for combining datasets"
   ],
   "cell_type": "markdown",
   "metadata": {}
  },
  {
   "cell_type": "code",
   "execution_count": 10,
   "metadata": {},
   "outputs": [
    {
     "output_type": "stream",
     "name": "stdout",
     "text": [
      "Collecting satpy\n  Downloading satpy-0.24.0.tar.gz (888 kB)\nRequirement already satisfied: numpy>=1.13 in c:\\programdata\\anaconda3\\envs\\sentinel\\lib\\site-packages (from satpy) (1.19.4)\nRequirement already satisfied: pillow in c:\\programdata\\anaconda3\\envs\\sentinel\\lib\\site-packages (from satpy) (8.0.1)\nRequirement already satisfied: pyyaml in c:\\programdata\\anaconda3\\envs\\sentinel\\lib\\site-packages (from satpy) (5.3.1)\nCollecting dask[array]>=0.17.1\n  Downloading dask-2020.12.0-py3-none-any.whl (884 kB)\nRequirement already satisfied: pyyaml in c:\\programdata\\anaconda3\\envs\\sentinel\\lib\\site-packages (from satpy) (5.3.1)\nRequirement already satisfied: numpy>=1.13 in c:\\programdata\\anaconda3\\envs\\sentinel\\lib\\site-packages (from satpy) (1.19.4)\nRequirement already satisfied: pyyaml in c:\\programdata\\anaconda3\\envs\\sentinel\\lib\\site-packages (from satpy) (5.3.1)\nCollecting pykdtree\n  Downloading pykdtree-1.3.4-cp37-cp37m-win_amd64.whl (52 kB)\nRequirement already satisfied: numpy>=1.13 in c:\\programdata\\anaconda3\\envs\\sentinel\\lib\\site-packages (from satpy) (1.19.4)\nCollecting pyproj\n  Downloading pyproj-3.0.0.post1-cp37-cp37m-win_amd64.whl (14.4 MB)\nRequirement already satisfied: certifi in c:\\programdata\\anaconda3\\envs\\sentinel\\lib\\site-packages (from pyproj->satpy) (2020.12.5)\nCollecting pyresample>=1.11.0\n  Downloading pyresample-1.17.0-cp37-cp37m-win_amd64.whl (2.1 MB)\nRequirement already satisfied: pyyaml in c:\\programdata\\anaconda3\\envs\\sentinel\\lib\\site-packages (from satpy) (5.3.1)\nRequirement already satisfied: numpy>=1.13 in c:\\programdata\\anaconda3\\envs\\sentinel\\lib\\site-packages (from satpy) (1.19.4)\nRequirement already satisfied: setuptools>=3.2 in c:\\programdata\\anaconda3\\envs\\sentinel\\lib\\site-packages (from pyresample>=1.11.0->satpy) (51.0.0.post20201207)\nCollecting configobj\n  Downloading configobj-5.0.6.tar.gz (33 kB)\nRequirement already satisfied: six in c:\\programdata\\anaconda3\\envs\\sentinel\\lib\\site-packages (from configobj->pyresample>=1.11.0->satpy) (1.15.0)\nCollecting toolz>=0.8.2\n  Using cached toolz-0.11.1-py3-none-any.whl (55 kB)\nCollecting trollimage>1.10.1\n  Downloading trollimage-1.14.0-py2.py3-none-any.whl (53 kB)\nRequirement already satisfied: numpy>=1.13 in c:\\programdata\\anaconda3\\envs\\sentinel\\lib\\site-packages (from satpy) (1.19.4)\nRequirement already satisfied: pillow in c:\\programdata\\anaconda3\\envs\\sentinel\\lib\\site-packages (from satpy) (8.0.1)\nCollecting trollsift\n  Downloading trollsift-0.3.4-py2.py3-none-any.whl (26 kB)\nCollecting xarray!=0.13.0,>=0.10.1\n  Downloading xarray-0.16.2-py3-none-any.whl (736 kB)\nRequirement already satisfied: numpy>=1.13 in c:\\programdata\\anaconda3\\envs\\sentinel\\lib\\site-packages (from satpy) (1.19.4)\nRequirement already satisfied: setuptools>=3.2 in c:\\programdata\\anaconda3\\envs\\sentinel\\lib\\site-packages (from pyresample>=1.11.0->satpy) (51.0.0.post20201207)\nCollecting pandas>=0.25\n  Downloading pandas-1.1.5-cp37-cp37m-win_amd64.whl (8.7 MB)\nRequirement already satisfied: numpy>=1.13 in c:\\programdata\\anaconda3\\envs\\sentinel\\lib\\site-packages (from satpy) (1.19.4)\nRequirement already satisfied: python-dateutil>=2.7.3 in c:\\programdata\\anaconda3\\envs\\sentinel\\lib\\site-packages (from pandas>=0.25->xarray!=0.13.0,>=0.10.1->satpy) (2.8.1)\nRequirement already satisfied: pytz>=2017.2 in c:\\programdata\\anaconda3\\envs\\sentinel\\lib\\site-packages (from pandas>=0.25->xarray!=0.13.0,>=0.10.1->satpy) (2020.4)\nRequirement already satisfied: six in c:\\programdata\\anaconda3\\envs\\sentinel\\lib\\site-packages (from configobj->pyresample>=1.11.0->satpy) (1.15.0)\nCollecting zarr\n  Downloading zarr-2.6.1-py3-none-any.whl (132 kB)\nRequirement already satisfied: numpy>=1.13 in c:\\programdata\\anaconda3\\envs\\sentinel\\lib\\site-packages (from satpy) (1.19.4)\nCollecting asciitree\n  Downloading asciitree-0.3.3.tar.gz (4.0 kB)\nCollecting fasteners\n  Downloading fasteners-0.15-py2.py3-none-any.whl (23 kB)\nRequirement already satisfied: six in c:\\programdata\\anaconda3\\envs\\sentinel\\lib\\site-packages (from configobj->pyresample>=1.11.0->satpy) (1.15.0)\nCollecting monotonic>=0.1\n  Downloading monotonic-1.5-py2.py3-none-any.whl (5.3 kB)\nCollecting numcodecs>=0.6.4\n  Downloading numcodecs-0.7.2-cp37-cp37m-win_amd64.whl (687 kB)\nRequirement already satisfied: numpy>=1.13 in c:\\programdata\\anaconda3\\envs\\sentinel\\lib\\site-packages (from satpy) (1.19.4)\nBuilding wheels for collected packages: satpy, configobj, asciitree\n  Building wheel for satpy (setup.py): started\n  Building wheel for satpy (setup.py): finished with status 'done'\n  Created wheel for satpy: filename=satpy-0.24.0-py2.py3-none-any.whl size=981064 sha256=f8a58963b47684d2218c3cb637b934bf13f9da08400b14c0c751a95003f446a7\n  Stored in directory: c:\\users\\lukec\\appdata\\local\\pip\\cache\\wheels\\79\\17\\68\\60f4be669c139a3c9c53e4c6b954d1ba5848860876371cb654\n  Building wheel for configobj (setup.py): started\n  Building wheel for configobj (setup.py): finished with status 'done'\n  Created wheel for configobj: filename=configobj-5.0.6-py3-none-any.whl size=34547 sha256=b139f66acedaf5e5fa89400d532cbd298aee3c545bd52d9e9710748c0019b912\n  Stored in directory: c:\\users\\lukec\\appdata\\local\\pip\\cache\\wheels\\0d\\c4\\19\\13d74440f2a571841db6b6e0a273694327498884dafb9cf978\n  Building wheel for asciitree (setup.py): started\n  Building wheel for asciitree (setup.py): finished with status 'done'\n  Created wheel for asciitree: filename=asciitree-0.3.3-py3-none-any.whl size=5036 sha256=47347eca83bbef3839f9b78ebfde7f895a98270b49a1a7531907fa152614bea6\n  Stored in directory: c:\\users\\lukec\\appdata\\local\\pip\\cache\\wheels\\12\\1c\\38\\0def51e15add93bff3f4bf9c248b94db0839b980b8535e72a0\nSuccessfully built satpy configobj asciitree\nInstalling collected packages: monotonic, toolz, pyproj, pykdtree, pandas, numcodecs, fasteners, dask, configobj, asciitree, zarr, xarray, trollsift, trollimage, pyresample, satpy\nSuccessfully installed asciitree-0.3.3 configobj-5.0.6 dask-2020.12.0 fasteners-0.15 monotonic-1.5 numcodecs-0.7.2 pandas-1.1.5 pykdtree-1.3.4 pyproj-3.0.0.post1 pyresample-1.17.0 satpy-0.24.0 toolz-0.11.1 trollimage-1.14.0 trollsift-0.3.4 xarray-0.16.2 zarr-2.6.1\nNote: you may need to restart the kernel to use updated packages.\n"
     ]
    }
   ],
   "source": [
    "%pip install satpy"
   ]
  },
  {
   "cell_type": "code",
   "execution_count": 12,
   "metadata": {},
   "outputs": [
    {
     "output_type": "error",
     "ename": "ValueError",
     "evalue": "No reader named: nc_olci_l1b",
     "traceback": [
      "\u001b[1;31m---------------------------------------------------------------------------\u001b[0m",
      "\u001b[1;31mValueError\u001b[0m                                Traceback (most recent call last)",
      "\u001b[1;32m<ipython-input-12-1cfe39cfe67f>\u001b[0m in \u001b[0;36m<module>\u001b[1;34m\u001b[0m\n\u001b[0;32m      7\u001b[0m                                \u001b[0mend_time\u001b[0m\u001b[1;33m=\u001b[0m\u001b[0mdatetime\u001b[0m\u001b[1;33m(\u001b[0m\u001b[1;36m2018\u001b[0m\u001b[1;33m,\u001b[0m \u001b[1;36m8\u001b[0m\u001b[1;33m,\u001b[0m \u001b[1;36m29\u001b[0m\u001b[1;33m,\u001b[0m \u001b[1;36m8\u001b[0m\u001b[1;33m,\u001b[0m \u001b[1;36m27\u001b[0m\u001b[1;33m)\u001b[0m\u001b[1;33m,\u001b[0m\u001b[1;33m\u001b[0m\u001b[1;33m\u001b[0m\u001b[0m\n\u001b[0;32m      8\u001b[0m                                \u001b[0mbase_dir\u001b[0m\u001b[1;33m=\u001b[0m\u001b[1;34m\"/data/temp/Martin.Raspaud/s3\"\u001b[0m\u001b[1;33m,\u001b[0m\u001b[1;33m\u001b[0m\u001b[1;33m\u001b[0m\u001b[0m\n\u001b[1;32m----> 9\u001b[1;33m                                reader='nc_olci_l1b')\n\u001b[0m\u001b[0;32m     10\u001b[0m \u001b[1;33m\u001b[0m\u001b[0m\n\u001b[0;32m     11\u001b[0m \u001b[0mscn\u001b[0m \u001b[1;33m=\u001b[0m \u001b[0mScene\u001b[0m\u001b[1;33m(\u001b[0m\u001b[0mfilenames\u001b[0m\u001b[1;33m=\u001b[0m\u001b[0mfiles\u001b[0m\u001b[1;33m)\u001b[0m\u001b[1;33m\u001b[0m\u001b[1;33m\u001b[0m\u001b[0m\n",
      "\u001b[1;32mC:\\ProgramData\\Anaconda3\\envs\\sentinel\\lib\\site-packages\\satpy\\readers\\__init__.py\u001b[0m in \u001b[0;36mfind_files_and_readers\u001b[1;34m(start_time, end_time, base_dir, reader, sensor, ppp_config_dir, filter_parameters, reader_kwargs, missing_ok, fs)\u001b[0m\n\u001b[0;32m    402\u001b[0m     \u001b[0mreader_kwargs\u001b[0m\u001b[1;33m[\u001b[0m\u001b[1;34m'filter_parameters'\u001b[0m\u001b[1;33m]\u001b[0m \u001b[1;33m=\u001b[0m \u001b[0mfilter_parameters\u001b[0m\u001b[1;33m\u001b[0m\u001b[1;33m\u001b[0m\u001b[0m\n\u001b[0;32m    403\u001b[0m \u001b[1;33m\u001b[0m\u001b[0m\n\u001b[1;32m--> 404\u001b[1;33m     \u001b[1;32mfor\u001b[0m \u001b[0mreader_configs\u001b[0m \u001b[1;32min\u001b[0m \u001b[0mconfigs_for_reader\u001b[0m\u001b[1;33m(\u001b[0m\u001b[0mreader\u001b[0m\u001b[1;33m,\u001b[0m \u001b[0mppp_config_dir\u001b[0m\u001b[1;33m)\u001b[0m\u001b[1;33m:\u001b[0m\u001b[1;33m\u001b[0m\u001b[1;33m\u001b[0m\u001b[0m\n\u001b[0m\u001b[0;32m    405\u001b[0m         \u001b[1;32mtry\u001b[0m\u001b[1;33m:\u001b[0m\u001b[1;33m\u001b[0m\u001b[1;33m\u001b[0m\u001b[0m\n\u001b[0;32m    406\u001b[0m             \u001b[0mreader_instance\u001b[0m \u001b[1;33m=\u001b[0m \u001b[0mload_reader\u001b[0m\u001b[1;33m(\u001b[0m\u001b[0mreader_configs\u001b[0m\u001b[1;33m,\u001b[0m \u001b[1;33m**\u001b[0m\u001b[0mreader_kwargs\u001b[0m\u001b[1;33m)\u001b[0m\u001b[1;33m\u001b[0m\u001b[1;33m\u001b[0m\u001b[0m\n",
      "\u001b[1;32mC:\\ProgramData\\Anaconda3\\envs\\sentinel\\lib\\site-packages\\satpy\\readers\\__init__.py\u001b[0m in \u001b[0;36mconfigs_for_reader\u001b[1;34m(reader, ppp_config_dir)\u001b[0m\n\u001b[0;32m    291\u001b[0m             \u001b[1;31m# either the reader they asked for does not exist\u001b[0m\u001b[1;33m\u001b[0m\u001b[1;33m\u001b[0m\u001b[1;33m\u001b[0m\u001b[0m\n\u001b[0;32m    292\u001b[0m             \u001b[1;31m# or satpy is improperly configured and can't find its own readers\u001b[0m\u001b[1;33m\u001b[0m\u001b[1;33m\u001b[0m\u001b[1;33m\u001b[0m\u001b[0m\n\u001b[1;32m--> 293\u001b[1;33m             \u001b[1;32mraise\u001b[0m \u001b[0mValueError\u001b[0m\u001b[1;33m(\u001b[0m\u001b[1;34m\"No reader named: {}\"\u001b[0m\u001b[1;33m.\u001b[0m\u001b[0mformat\u001b[0m\u001b[1;33m(\u001b[0m\u001b[0mreader_name\u001b[0m\u001b[1;33m)\u001b[0m\u001b[1;33m)\u001b[0m\u001b[1;33m\u001b[0m\u001b[1;33m\u001b[0m\u001b[0m\n\u001b[0m\u001b[0;32m    294\u001b[0m \u001b[1;33m\u001b[0m\u001b[0m\n\u001b[0;32m    295\u001b[0m         \u001b[1;32myield\u001b[0m \u001b[0mreader_configs\u001b[0m\u001b[1;33m\u001b[0m\u001b[1;33m\u001b[0m\u001b[0m\n",
      "\u001b[1;31mValueError\u001b[0m: No reader named: nc_olci_l1b"
     ]
    }
   ],
   "source": [
    "from datetime import datetime\n",
    "\n",
    "from satpy import Scene, find_files_and_readers\n",
    "\n",
    "files = find_files_and_readers(sensor='olci',\n",
    "                               start_time=datetime(2018, 8, 29, 8, 26),\n",
    "                               end_time=datetime(2018, 8, 29, 8, 27),\n",
    "                               base_dir=\"/data/temp/Martin.Raspaud/s3\",\n",
    "                               reader='nc_olci_l1b')\n",
    "\n",
    "scn = Scene(filenames=files)"
   ]
  },
  {
   "cell_type": "code",
   "execution_count": null,
   "metadata": {},
   "outputs": [],
   "source": []
  }
 ]
}